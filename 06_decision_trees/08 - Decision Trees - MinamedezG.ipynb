{
 "cells": [
  {
   "cell_type": "markdown",
   "metadata": {},
   "source": [
    "Name: Minamedez, Gabriel Nicolas D."
   ]
  },
  {
   "cell_type": "markdown",
   "metadata": {},
   "source": [
    "# Decision Trees Exercise\n",
    "This exercise will guide you in implementing the Decision Trees. \n",
    "\n",
    "**You will learn to:**\n",
    "- Implement Decision Trees for classification and regression tasks\n",
    "- Implement the Top down approach in recursively building the tree\n",
    "- Choose the best feature according to some impurity / gain measure\n",
    "    - Information gain / Entropy (Classification) \n",
    "    - Gini impurity (Classification)\n",
    "    - Variance reduction (Regression)\n",
    "- Regularize the decision tree to avoid overfitting\n",
    "    - Minimum samples split\n",
    "    - Maximum depth\n",
    "    - Minimum impurity gain"
   ]
  },
  {
   "cell_type": "code",
   "execution_count": 1,
   "metadata": {},
   "outputs": [],
   "source": [
    "import matplotlib.pyplot as plt\n",
    "import numpy as np\n",
    "%matplotlib inline\n",
    "plt.style.use('ggplot')\n",
    "\n",
    "plt.rcParams['figure.figsize'] = (12.0, 8.0) # set default size of plots\n",
    "plt.rcParams['image.interpolation'] = 'nearest'\n",
    "\n",
    "# Fix the seed of the random number \n",
    "# generator so that your results will match ours\n",
    "np.random.seed(1)\n",
    "\n",
    "%load_ext autoreload\n",
    "%autoreload 2"
   ]
  },
  {
   "cell_type": "markdown",
   "metadata": {},
   "source": [
    "**Dataset:**\n",
    "We will use the iris dataset. The data set contains 3 classes of 50 instances each, where each class refers to a type of iris plant. One class is linearly separable from the other 2; the latter are NOT linearly separable from each other. \n",
    "\n",
    "Attribute Information:\n",
    "\n",
    "1. Sepal length in cm\n",
    "2. Sepal width in cm\n",
    "3. Petal length in cm\n",
    "4. Petal width in cm\n",
    "5. Class (Species):\n",
    "    - Iris Setosa\n",
    "    - Iris Versicolour\n",
    "    - Iris Virginica"
   ]
  },
  {
   "cell_type": "code",
   "execution_count": 2,
   "metadata": {},
   "outputs": [
    {
     "data": {
      "text/html": [
       "<div>\n",
       "<style scoped>\n",
       "    .dataframe tbody tr th:only-of-type {\n",
       "        vertical-align: middle;\n",
       "    }\n",
       "\n",
       "    .dataframe tbody tr th {\n",
       "        vertical-align: top;\n",
       "    }\n",
       "\n",
       "    .dataframe thead th {\n",
       "        text-align: right;\n",
       "    }\n",
       "</style>\n",
       "<table border=\"1\" class=\"dataframe\">\n",
       "  <thead>\n",
       "    <tr style=\"text-align: right;\">\n",
       "      <th></th>\n",
       "      <th>sepal_length</th>\n",
       "      <th>sepal_width</th>\n",
       "      <th>petal_length</th>\n",
       "      <th>petal_width</th>\n",
       "      <th>species</th>\n",
       "    </tr>\n",
       "  </thead>\n",
       "  <tbody>\n",
       "    <tr>\n",
       "      <th>0</th>\n",
       "      <td>5.1</td>\n",
       "      <td>3.5</td>\n",
       "      <td>1.4</td>\n",
       "      <td>0.2</td>\n",
       "      <td>0</td>\n",
       "    </tr>\n",
       "    <tr>\n",
       "      <th>1</th>\n",
       "      <td>4.9</td>\n",
       "      <td>3.0</td>\n",
       "      <td>1.4</td>\n",
       "      <td>0.2</td>\n",
       "      <td>0</td>\n",
       "    </tr>\n",
       "    <tr>\n",
       "      <th>2</th>\n",
       "      <td>4.7</td>\n",
       "      <td>3.2</td>\n",
       "      <td>1.3</td>\n",
       "      <td>0.2</td>\n",
       "      <td>0</td>\n",
       "    </tr>\n",
       "    <tr>\n",
       "      <th>3</th>\n",
       "      <td>4.6</td>\n",
       "      <td>3.1</td>\n",
       "      <td>1.5</td>\n",
       "      <td>0.2</td>\n",
       "      <td>0</td>\n",
       "    </tr>\n",
       "    <tr>\n",
       "      <th>4</th>\n",
       "      <td>5.0</td>\n",
       "      <td>3.6</td>\n",
       "      <td>1.4</td>\n",
       "      <td>0.2</td>\n",
       "      <td>0</td>\n",
       "    </tr>\n",
       "  </tbody>\n",
       "</table>\n",
       "</div>"
      ],
      "text/plain": [
       "   sepal_length  sepal_width  petal_length  petal_width  species\n",
       "0           5.1          3.5           1.4          0.2        0\n",
       "1           4.9          3.0           1.4          0.2        0\n",
       "2           4.7          3.2           1.3          0.2        0\n",
       "3           4.6          3.1           1.5          0.2        0\n",
       "4           5.0          3.6           1.4          0.2        0"
      ]
     },
     "execution_count": 2,
     "metadata": {},
     "output_type": "execute_result"
    }
   ],
   "source": [
    "import pandas as pd\n",
    "\n",
    "# loads csv file into a pandas dataframe\n",
    "iris = pd.read_csv('iris.csv')\n",
    "\n",
    "iris[\"species\"] = pd.Categorical(iris[\"species\"]).codes\n",
    "iris.head()"
   ]
  },
  {
   "cell_type": "code",
   "execution_count": 3,
   "metadata": {},
   "outputs": [],
   "source": [
    "X = iris.values[:,:-1]\n",
    "y = iris.values[:,-1].astype(int)\n",
    "\n",
    "num_items = X.shape[0]\n",
    "randIdx = np.arange(num_items)\n",
    "\n",
    "# randomly shuffly the indices\n",
    "np.random.seed(4) \n",
    "np.random.shuffle(randIdx)\n",
    "\n",
    "test_precentage_split = 0.4\n",
    "\n",
    "num_test = np.ceil(num_items * test_precentage_split).astype(int)\n",
    "X_test = X[randIdx[0:num_test]]\n",
    "y_test = y[randIdx[0:num_test]]\n",
    "\n",
    "X_train = X[randIdx[num_test:]]\n",
    "y_train = y[randIdx[num_test:]]"
   ]
  },
  {
   "cell_type": "markdown",
   "metadata": {},
   "source": [
    "**Open `decision_tree.py`. **\n",
    "\n",
    "Inside, you will find two class definitions *TreeNode* and *DecisionTree*. \n",
    "- TreeNode: A class that represents a node in the tree, it can either be a decision node or a leaf node.\n",
    "- DecitionTree: An abstract class that defines the basic template of a decision tree. This is the superclass of *ClassificationTree* and *RegressionTree*\n",
    "\n",
    "**(1.)** Implement the functions `create_tree`, `choose_best_feature_split`, and `traverse_tree`.\n",
    "\n",
    "## Classification Trees\n",
    "\n",
    "**Open `classification_tree.py`. **\n",
    "\n",
    "**(2.)** Implement the functions `entropy`, `information_gain`, `gini_impurity`, `gini_gain`, `compute_leaf`."
   ]
  },
  {
   "cell_type": "code",
   "execution_count": 4,
   "metadata": {},
   "outputs": [],
   "source": [
    "from classification_tree import ClassificationTree"
   ]
  },
  {
   "cell_type": "code",
   "execution_count": 27,
   "metadata": {},
   "outputs": [],
   "source": [
    "clTree = ClassificationTree(impurity_criterion=\"entropy\")"
   ]
  },
  {
   "cell_type": "code",
   "execution_count": 28,
   "metadata": {},
   "outputs": [],
   "source": [
    "clTree.train(X_train,y_train)"
   ]
  },
  {
   "cell_type": "code",
   "execution_count": 29,
   "metadata": {},
   "outputs": [],
   "source": [
    "train_predictions = clTree.predict(X_train)"
   ]
  },
  {
   "cell_type": "code",
   "execution_count": 30,
   "metadata": {},
   "outputs": [
    {
     "name": "stdout",
     "output_type": "stream",
     "text": [
      "Accuracy on the Training set 36.666666666666664 %\n"
     ]
    }
   ],
   "source": [
    "print(\"Accuracy on the Training set\", np.sum(y_train == train_predictions) * 100 / y_train.shape[0], '%')"
   ]
  },
  {
   "cell_type": "markdown",
   "metadata": {},
   "source": [
    "**Sanity Check**: A decision tree without regularization should be able to achieve 100% accuracy on the training set."
   ]
  },
  {
   "cell_type": "code",
   "execution_count": null,
   "metadata": {},
   "outputs": [],
   "source": [
    "predictions = clTree.predict(X_test)\n",
    "print(\"Accuracy on the Test set\", np.sum(y_test == predictions)*100 / num_test, '%')"
   ]
  },
  {
   "cell_type": "markdown",
   "metadata": {},
   "source": [
    "**Sanity Check**: You should get ~90% accuracy or more on the test set."
   ]
  },
  {
   "cell_type": "markdown",
   "metadata": {},
   "source": [
    "Lets visualize the tree that you have just made. Since the space size is limited, you may need to pan / zoom in order to see other parts of the tree."
   ]
  },
  {
   "cell_type": "code",
   "execution_count": null,
   "metadata": {},
   "outputs": [],
   "source": [
    "# makes the plot interactive. Allows for panning and zooming.\n",
    "%matplotlib notebook\n",
    "# visualize the tree. \n",
    "clTree.visualize_tree()"
   ]
  },
  {
   "cell_type": "markdown",
   "metadata": {},
   "source": [
    "## Regression Trees\n",
    "\n",
    "For regression, we will generate a dummy dataset following a sin curve so we can visualize the results. \n"
   ]
  },
  {
   "cell_type": "code",
   "execution_count": null,
   "metadata": {},
   "outputs": [],
   "source": [
    "n_samples = 150\n",
    "np.random.seed(1)\n",
    "X = np.expand_dims(np.random.uniform(-np.pi,np.pi, n_samples),1)\n",
    "y = np.sin(2*X) + np.random.randn(n_samples,1)*0.3\n",
    "\n",
    "num_items = X.shape[0]\n",
    "randIdx = np.arange(num_items)\n",
    "\n",
    "# randomly shuffly the indices\n",
    "np.random.seed(4) \n",
    "np.random.shuffle(randIdx)\n",
    "\n",
    "test_precentage_split = 0.4\n",
    "\n",
    "num_test = np.ceil(num_items * test_precentage_split).astype(int)\n",
    "X_test = X[randIdx[0:num_test]]\n",
    "y_test = y[randIdx[0:num_test]]\n",
    "\n",
    "X_train = X[randIdx[num_test:]]\n",
    "y_train = y[randIdx[num_test:]]"
   ]
  },
  {
   "cell_type": "code",
   "execution_count": null,
   "metadata": {
    "scrolled": true
   },
   "outputs": [],
   "source": [
    "%matplotlib inline\n",
    "plt.scatter(X_train,y_train)"
   ]
  },
  {
   "cell_type": "markdown",
   "metadata": {},
   "source": [
    "**Open `regression_tree.py`. **\n",
    "\n",
    "**(3.)** Implement the functions `compute_variance_reduction`, and `compute_leaf`."
   ]
  },
  {
   "cell_type": "code",
   "execution_count": null,
   "metadata": {},
   "outputs": [],
   "source": [
    "from regression_tree import RegressionTree"
   ]
  },
  {
   "cell_type": "code",
   "execution_count": null,
   "metadata": {},
   "outputs": [],
   "source": [
    "rgTree = RegressionTree()\n",
    "rgTree.train(X_train,y_train)"
   ]
  },
  {
   "cell_type": "code",
   "execution_count": null,
   "metadata": {},
   "outputs": [],
   "source": [
    "predictions = rgTree.predict(X_test)\n",
    "MSE = np.mean((predictions - y_test)**2)\n",
    "print(\"Mean Squared Error :\", MSE)\n",
    "\n",
    "REL = np.mean(np.abs(predictions - y_test) / y_test)\n",
    "print(\"Absolute Relative Error :\", REL)\n",
    "\n",
    "plt.figure(figsize=(10, 5))\n",
    "# plt.subplot(121)\n",
    "plt.scatter(X_test, y_test, label='Ground Truth')\n",
    "# plt.title('Ground Truth')\n",
    "# plt.subplot(122)\n",
    "plt.scatter(X_test, predictions, label='Predicted')\n",
    "# plt.title('Predicted Values')\n",
    "plt.legend(loc='upper right')"
   ]
  },
  {
   "cell_type": "markdown",
   "metadata": {},
   "source": [
    "### Regularizing Decision Trees\n",
    "In the absence of regularization, the decision tree will memorize the training set and achieve 0% error. While this is good in terms of bias, it may not generalize well to never before seen data. (Variance problem)\n",
    "\n",
    "Modify your code to include three ways of regularization:\n",
    "- **Minimum samples split**: If the remaining samples are less than the specifed value then we stop splitting and make it a leaf node\n",
    "- **Max depth**: Restricts the maximum depth of the trees\n",
    "- **Minimum impurity gain**: If the impurity gain is less than the specified value then we stop splitting and make it a leaf node."
   ]
  },
  {
   "cell_type": "code",
   "execution_count": null,
   "metadata": {},
   "outputs": [],
   "source": [
    "min_samples_split_vals = [2, 4, 6, 10, 15, 20]\n",
    "plt_ctr = 1\n",
    "plt.figure(figsize=(15,12))\n",
    "for val in min_samples_split_vals:\n",
    "    rgTree = RegressionTree(min_samples_split=val)\n",
    "    rgTree.train(X,y)\n",
    "    X_test = np.expand_dims(np.linspace(-np.pi,np.pi,300),-1)\n",
    "    plt.subplot(3,2,plt_ctr)\n",
    "    plt.scatter(X_test,rgTree.predict(X_test))\n",
    "    plt.title(\"Min samples = \"+ str(val))\n",
    "    plt_ctr += 1"
   ]
  },
  {
   "cell_type": "code",
   "execution_count": null,
   "metadata": {},
   "outputs": [],
   "source": [
    "max_depth_vals = [2, 4, 6, 10, 15, 20]\n",
    "plt_ctr = 1\n",
    "plt.figure(figsize=(15,12))\n",
    "for val in max_depth_vals:\n",
    "    rgTree = RegressionTree(max_depth=val)\n",
    "    rgTree.train(X,y)\n",
    "    X_test = np.expand_dims(np.linspace(-np.pi,np.pi,300),-1)\n",
    "    plt.subplot(3,2,plt_ctr)\n",
    "    plt.scatter(X_test,rgTree.predict(X_test))\n",
    "    plt.title(\"Max depth = \"+ str(val))\n",
    "    plt_ctr += 1"
   ]
  },
  {
   "cell_type": "code",
   "execution_count": null,
   "metadata": {
    "scrolled": true
   },
   "outputs": [],
   "source": [
    "min_impurity_exp = [-0.1, -0.5, -0.8, -1, -2, -7]\n",
    "plt_ctr = 1\n",
    "plt.figure(figsize=(15,12))\n",
    "for val in min_impurity_exp:\n",
    "    rgTree = RegressionTree(min_impurity=10**val)\n",
    "    rgTree.train(X,y)\n",
    "    X_test = np.expand_dims(np.linspace(-np.pi,np.pi,300),-1)\n",
    "    plt.subplot(3,2,plt_ctr)\n",
    "    plt.scatter(X_test,rgTree.predict(X_test))\n",
    "    plt.title(\"Min impurity = 10 ^ \"+ str(val))\n",
    "    plt_ctr += 1"
   ]
  },
  {
   "cell_type": "markdown",
   "metadata": {},
   "source": [
    "## <center>fin</center>"
   ]
  },
  {
   "cell_type": "markdown",
   "metadata": {},
   "source": [
    "\n",
    "<!-- DO NOT MODIFY OR DELETE THIS -->\n",
    "\n",
    "<sup>made/compiled by daniel stanley tan & courtney anne ngo 🐰 & thomas james tiam-lee</sup> <br>\n",
    "<sup>for comments, corrections, suggestions, please email:</sup><sup> danieltan07@gmail.com & courtneyngo@gmail.com & thomasjamestiamlee@gmail.com</sup><br>\n",
    "<sup>please cc your instructor, too</sup>\n",
    "<!-- DO NOT MODIFY OR DELETE THIS -->\n",
    "\n",
    "\n"
   ]
  }
 ],
 "metadata": {
  "kernelspec": {
   "display_name": "Python 3",
   "language": "python",
   "name": "python3"
  },
  "language_info": {
   "codemirror_mode": {
    "name": "ipython",
    "version": 3
   },
   "file_extension": ".py",
   "mimetype": "text/x-python",
   "name": "python",
   "nbconvert_exporter": "python",
   "pygments_lexer": "ipython3",
   "version": "3.7.6"
  }
 },
 "nbformat": 4,
 "nbformat_minor": 4
}
